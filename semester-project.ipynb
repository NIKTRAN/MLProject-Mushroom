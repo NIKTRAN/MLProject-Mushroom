{
 "cells": [
  {
   "cell_type": "code",
   "execution_count": 3,
   "metadata": {},
   "outputs": [
    {
     "name": "stderr",
     "output_type": "stream",
     "text": [
      "\u001b[32m\u001b[1m   Resolving\u001b[22m\u001b[39m package versions...\n",
      "\u001b[32m\u001b[1m  No Changes\u001b[22m\u001b[39m to `~/.julia/environments/v1.10/Project.toml`\n",
      "\u001b[32m\u001b[1m  No Changes\u001b[22m\u001b[39m to `~/.julia/environments/v1.10/Manifest.toml`\n",
      "\u001b[32m\u001b[1m   Resolving\u001b[22m\u001b[39m package versions...\n",
      "\u001b[32m\u001b[1m  No Changes\u001b[22m\u001b[39m to `~/.julia/environments/v1.10/Project.toml`\n",
      "\u001b[32m\u001b[1m  No Changes\u001b[22m\u001b[39m to `~/.julia/environments/v1.10/Manifest.toml`\n",
      "\u001b[32m\u001b[1m   Resolving\u001b[22m\u001b[39m package versions...\n",
      "\u001b[32m\u001b[1m  No Changes\u001b[22m\u001b[39m to `~/.julia/environments/v1.10/Project.toml`\n",
      "\u001b[32m\u001b[1m  No Changes\u001b[22m\u001b[39m to `~/.julia/environments/v1.10/Manifest.toml`\n"
     ]
    }
   ],
   "source": [
    "# Add dependencies\n",
    "using Pkg\n",
    "Pkg.add(\"CSV\")\n",
    "Pkg.add(\"LuxCUDA\")\n",
    "Pkg.add(\"DataFrames\")"
   ]
  },
  {
   "cell_type": "code",
   "execution_count": 4,
   "metadata": {},
   "outputs": [],
   "source": [
    "# Load dependencies\n",
    "using CSV, LuxCUDA, DataFrames"
   ]
  },
  {
   "cell_type": "code",
   "execution_count": 5,
   "metadata": {},
   "outputs": [
    {
     "ename": "ErrorException",
     "evalue": "invalid redefinition of constant Main.Bruises",
     "output_type": "error",
     "traceback": [
      "invalid redefinition of constant Main.Bruises\n",
      "\n",
      "Stacktrace:\n",
      " [1] top-level scope\n",
      "   @ Enums.jl:224"
     ]
    }
   ],
   "source": [
    "# Define enums\n",
    "@enum PoisonClass Poisonous Edible\n",
    "\n",
    "@enum CapShape begin\n",
    "    Bell\n",
    "    Conical\n",
    "    Convex\n",
    "    Flat\n",
    "    Knobbed\n",
    "    Sunken\n",
    "end\n",
    "\n",
    "@enum CapSurface begin\n",
    "    Fibrous\n",
    "    Grooves\n",
    "    Scaly\n",
    "    Smooth\n",
    "end\n",
    "\n",
    "@enum Bruises begin\n",
    "    Bruises\n",
    "    NoBruises\n",
    "end\n",
    "\n",
    "@enum Odor begin\n",
    "    Almond\n",
    "    Anise\n",
    "    Creosote\n",
    "    Fishy\n",
    "    Foul\n",
    "    Musty\n",
    "    None\n",
    "    Pungent\n",
    "    Spicy\n",
    "end\n",
    "\n",
    "@enum GillAttachment begin\n",
    "    Attached\n",
    "    Descending\n",
    "    Free\n",
    "    Notched\n",
    "end\n",
    "\n",
    "@enum GillSpacing begin\n",
    "    Close\n",
    "    Crowded\n",
    "    Distant\n",
    "end\n",
    "\n",
    "@enum GillSize begin\n",
    "    Broad\n",
    "    Narrow\n",
    "end\n",
    "\n",
    "@enum MColors begin\n",
    "    Black\n",
    "    Brown\n",
    "    Buff\n",
    "    Chocolate\n",
    "    Gray\n",
    "    Green\n",
    "    Orange\n",
    "    Pink\n",
    "    Purple\n",
    "    Red\n",
    "    White\n",
    "    Yellow\n",
    "end\n",
    "\n",
    "@enum StalkShape begin\n",
    "    Enlarging\n",
    "    Tapering\n",
    "end\n",
    "\n",
    "@enum StalkRoot begin\n",
    "    Bulbous\n",
    "    Club\n",
    "    Cup\n",
    "    Equal\n",
    "    Rooted\n",
    "end"
   ]
  },
  {
   "cell_type": "code",
   "execution_count": 35,
   "metadata": {},
   "outputs": [
    {
     "data": {
      "text/html": [
       "<div><div style = \"float: left;\"><span>8124×23 DataFrame</span></div><div style = \"float: right;\"><span style = \"font-style: italic;\">8099 rows omitted</span></div><div style = \"clear: both;\"></div></div><div class = \"data-frame\" style = \"overflow-x: scroll;\"><table class = \"data-frame\" style = \"margin-bottom: 6px;\"><thead><tr class = \"header\"><th class = \"rowNumber\" style = \"font-weight: bold; text-align: right;\">Row</th><th style = \"text-align: left;\">class</th><th style = \"text-align: left;\">cap-shape</th><th style = \"text-align: left;\">cap-surface</th><th style = \"text-align: left;\">cap-color</th><th style = \"text-align: left;\">bruises</th><th style = \"text-align: left;\">odor</th><th style = \"text-align: left;\">gill-attachment</th><th style = \"text-align: left;\">gill-spacing</th><th style = \"text-align: left;\">gill-size</th><th style = \"text-align: left;\">gill-color</th><th style = \"text-align: left;\">stalk-shape</th><th style = \"text-align: left;\">stalk-root</th><th style = \"text-align: left;\">stalk-surface-above-ring</th><th style = \"text-align: left;\">stalk-surface-below-ring</th><th style = \"text-align: left;\">stalk-color-above-ring</th><th style = \"text-align: left;\">stalk-color-below-ring</th><th style = \"text-align: left;\">veil-type</th><th style = \"text-align: left;\">veil-color</th><th style = \"text-align: left;\">ring-number</th><th style = \"text-align: left;\">ring-type</th><th style = \"text-align: left;\">spore-print-color</th><th style = \"text-align: left;\">population</th><th style = \"text-align: left;\">habitat</th></tr><tr class = \"subheader headerLastRow\"><th class = \"rowNumber\" style = \"font-weight: bold; text-align: right;\"></th><th title = \"PoisonClass\" style = \"text-align: left;\">PoisonCl…</th><th title = \"String1\" style = \"text-align: left;\">String1</th><th title = \"String1\" style = \"text-align: left;\">String1</th><th title = \"String1\" style = \"text-align: left;\">String1</th><th title = \"String1\" style = \"text-align: left;\">String1</th><th title = \"String1\" style = \"text-align: left;\">String1</th><th title = \"String1\" style = \"text-align: left;\">String1</th><th title = \"String1\" style = \"text-align: left;\">String1</th><th title = \"String1\" style = \"text-align: left;\">String1</th><th title = \"String1\" style = \"text-align: left;\">String1</th><th title = \"String1\" style = \"text-align: left;\">String1</th><th title = \"String1\" style = \"text-align: left;\">String1</th><th title = \"String1\" style = \"text-align: left;\">String1</th><th title = \"String1\" style = \"text-align: left;\">String1</th><th title = \"String1\" style = \"text-align: left;\">String1</th><th title = \"String1\" style = \"text-align: left;\">String1</th><th title = \"String1\" style = \"text-align: left;\">String1</th><th title = \"String1\" style = \"text-align: left;\">String1</th><th title = \"String1\" style = \"text-align: left;\">String1</th><th title = \"String1\" style = \"text-align: left;\">String1</th><th title = \"String1\" style = \"text-align: left;\">String1</th><th title = \"String1\" style = \"text-align: left;\">String1</th><th title = \"String1\" style = \"text-align: left;\">String1</th></tr></thead><tbody><tr><td class = \"rowNumber\" style = \"font-weight: bold; text-align: right;\">1</td><td style = \"text-align: left;\">Poisonous</td><td style = \"text-align: left;\">x</td><td style = \"text-align: left;\">s</td><td style = \"text-align: left;\">n</td><td style = \"text-align: left;\">t</td><td style = \"text-align: left;\">p</td><td style = \"text-align: left;\">f</td><td style = \"text-align: left;\">c</td><td style = \"text-align: left;\">n</td><td style = \"text-align: left;\">k</td><td style = \"text-align: left;\">e</td><td style = \"text-align: left;\">e</td><td style = \"text-align: left;\">s</td><td style = \"text-align: left;\">s</td><td style = \"text-align: left;\">w</td><td style = \"text-align: left;\">w</td><td style = \"text-align: left;\">p</td><td style = \"text-align: left;\">w</td><td style = \"text-align: left;\">o</td><td style = \"text-align: left;\">p</td><td style = \"text-align: left;\">k</td><td style = \"text-align: left;\">s</td><td style = \"text-align: left;\">u</td></tr><tr><td class = \"rowNumber\" style = \"font-weight: bold; text-align: right;\">2</td><td style = \"text-align: left;\">Edible</td><td style = \"text-align: left;\">x</td><td style = \"text-align: left;\">s</td><td style = \"text-align: left;\">y</td><td style = \"text-align: left;\">t</td><td style = \"text-align: left;\">a</td><td style = \"text-align: left;\">f</td><td style = \"text-align: left;\">c</td><td style = \"text-align: left;\">b</td><td style = \"text-align: left;\">k</td><td style = \"text-align: left;\">e</td><td style = \"text-align: left;\">c</td><td style = \"text-align: left;\">s</td><td style = \"text-align: left;\">s</td><td style = \"text-align: left;\">w</td><td style = \"text-align: left;\">w</td><td style = \"text-align: left;\">p</td><td style = \"text-align: left;\">w</td><td style = \"text-align: left;\">o</td><td style = \"text-align: left;\">p</td><td style = \"text-align: left;\">n</td><td style = \"text-align: left;\">n</td><td style = \"text-align: left;\">g</td></tr><tr><td class = \"rowNumber\" style = \"font-weight: bold; text-align: right;\">3</td><td style = \"text-align: left;\">Edible</td><td style = \"text-align: left;\">b</td><td style = \"text-align: left;\">s</td><td style = \"text-align: left;\">w</td><td style = \"text-align: left;\">t</td><td style = \"text-align: left;\">l</td><td style = \"text-align: left;\">f</td><td style = \"text-align: left;\">c</td><td style = \"text-align: left;\">b</td><td style = \"text-align: left;\">n</td><td style = \"text-align: left;\">e</td><td style = \"text-align: left;\">c</td><td style = \"text-align: left;\">s</td><td style = \"text-align: left;\">s</td><td style = \"text-align: left;\">w</td><td style = \"text-align: left;\">w</td><td style = \"text-align: left;\">p</td><td style = \"text-align: left;\">w</td><td style = \"text-align: left;\">o</td><td style = \"text-align: left;\">p</td><td style = \"text-align: left;\">n</td><td style = \"text-align: left;\">n</td><td style = \"text-align: left;\">m</td></tr><tr><td class = \"rowNumber\" style = \"font-weight: bold; text-align: right;\">4</td><td style = \"text-align: left;\">Poisonous</td><td style = \"text-align: left;\">x</td><td style = \"text-align: left;\">y</td><td style = \"text-align: left;\">w</td><td style = \"text-align: left;\">t</td><td style = \"text-align: left;\">p</td><td style = \"text-align: left;\">f</td><td style = \"text-align: left;\">c</td><td style = \"text-align: left;\">n</td><td style = \"text-align: left;\">n</td><td style = \"text-align: left;\">e</td><td style = \"text-align: left;\">e</td><td style = \"text-align: left;\">s</td><td style = \"text-align: left;\">s</td><td style = \"text-align: left;\">w</td><td style = \"text-align: left;\">w</td><td style = \"text-align: left;\">p</td><td style = \"text-align: left;\">w</td><td style = \"text-align: left;\">o</td><td style = \"text-align: left;\">p</td><td style = \"text-align: left;\">k</td><td style = \"text-align: left;\">s</td><td style = \"text-align: left;\">u</td></tr><tr><td class = \"rowNumber\" style = \"font-weight: bold; text-align: right;\">5</td><td style = \"text-align: left;\">Edible</td><td style = \"text-align: left;\">x</td><td style = \"text-align: left;\">s</td><td style = \"text-align: left;\">g</td><td style = \"text-align: left;\">f</td><td style = \"text-align: left;\">n</td><td style = \"text-align: left;\">f</td><td style = \"text-align: left;\">w</td><td style = \"text-align: left;\">b</td><td style = \"text-align: left;\">k</td><td style = \"text-align: left;\">t</td><td style = \"text-align: left;\">e</td><td style = \"text-align: left;\">s</td><td style = \"text-align: left;\">s</td><td style = \"text-align: left;\">w</td><td style = \"text-align: left;\">w</td><td style = \"text-align: left;\">p</td><td style = \"text-align: left;\">w</td><td style = \"text-align: left;\">o</td><td style = \"text-align: left;\">e</td><td style = \"text-align: left;\">n</td><td style = \"text-align: left;\">a</td><td style = \"text-align: left;\">g</td></tr><tr><td class = \"rowNumber\" style = \"font-weight: bold; text-align: right;\">6</td><td style = \"text-align: left;\">Edible</td><td style = \"text-align: left;\">x</td><td style = \"text-align: left;\">y</td><td style = \"text-align: left;\">y</td><td style = \"text-align: left;\">t</td><td style = \"text-align: left;\">a</td><td style = \"text-align: left;\">f</td><td style = \"text-align: left;\">c</td><td style = \"text-align: left;\">b</td><td style = \"text-align: left;\">n</td><td style = \"text-align: left;\">e</td><td style = \"text-align: left;\">c</td><td style = \"text-align: left;\">s</td><td style = \"text-align: left;\">s</td><td style = \"text-align: left;\">w</td><td style = \"text-align: left;\">w</td><td style = \"text-align: left;\">p</td><td style = \"text-align: left;\">w</td><td style = \"text-align: left;\">o</td><td style = \"text-align: left;\">p</td><td style = \"text-align: left;\">k</td><td style = \"text-align: left;\">n</td><td style = \"text-align: left;\">g</td></tr><tr><td class = \"rowNumber\" style = \"font-weight: bold; text-align: right;\">7</td><td style = \"text-align: left;\">Edible</td><td style = \"text-align: left;\">b</td><td style = \"text-align: left;\">s</td><td style = \"text-align: left;\">w</td><td style = \"text-align: left;\">t</td><td style = \"text-align: left;\">a</td><td style = \"text-align: left;\">f</td><td style = \"text-align: left;\">c</td><td style = \"text-align: left;\">b</td><td style = \"text-align: left;\">g</td><td style = \"text-align: left;\">e</td><td style = \"text-align: left;\">c</td><td style = \"text-align: left;\">s</td><td style = \"text-align: left;\">s</td><td style = \"text-align: left;\">w</td><td style = \"text-align: left;\">w</td><td style = \"text-align: left;\">p</td><td style = \"text-align: left;\">w</td><td style = \"text-align: left;\">o</td><td style = \"text-align: left;\">p</td><td style = \"text-align: left;\">k</td><td style = \"text-align: left;\">n</td><td style = \"text-align: left;\">m</td></tr><tr><td class = \"rowNumber\" style = \"font-weight: bold; text-align: right;\">8</td><td style = \"text-align: left;\">Edible</td><td style = \"text-align: left;\">b</td><td style = \"text-align: left;\">y</td><td style = \"text-align: left;\">w</td><td style = \"text-align: left;\">t</td><td style = \"text-align: left;\">l</td><td style = \"text-align: left;\">f</td><td style = \"text-align: left;\">c</td><td style = \"text-align: left;\">b</td><td style = \"text-align: left;\">n</td><td style = \"text-align: left;\">e</td><td style = \"text-align: left;\">c</td><td style = \"text-align: left;\">s</td><td style = \"text-align: left;\">s</td><td style = \"text-align: left;\">w</td><td style = \"text-align: left;\">w</td><td style = \"text-align: left;\">p</td><td style = \"text-align: left;\">w</td><td style = \"text-align: left;\">o</td><td style = \"text-align: left;\">p</td><td style = \"text-align: left;\">n</td><td style = \"text-align: left;\">s</td><td style = \"text-align: left;\">m</td></tr><tr><td class = \"rowNumber\" style = \"font-weight: bold; text-align: right;\">9</td><td style = \"text-align: left;\">Poisonous</td><td style = \"text-align: left;\">x</td><td style = \"text-align: left;\">y</td><td style = \"text-align: left;\">w</td><td style = \"text-align: left;\">t</td><td style = \"text-align: left;\">p</td><td style = \"text-align: left;\">f</td><td style = \"text-align: left;\">c</td><td style = \"text-align: left;\">n</td><td style = \"text-align: left;\">p</td><td style = \"text-align: left;\">e</td><td style = \"text-align: left;\">e</td><td style = \"text-align: left;\">s</td><td style = \"text-align: left;\">s</td><td style = \"text-align: left;\">w</td><td style = \"text-align: left;\">w</td><td style = \"text-align: left;\">p</td><td style = \"text-align: left;\">w</td><td style = \"text-align: left;\">o</td><td style = \"text-align: left;\">p</td><td style = \"text-align: left;\">k</td><td style = \"text-align: left;\">v</td><td style = \"text-align: left;\">g</td></tr><tr><td class = \"rowNumber\" style = \"font-weight: bold; text-align: right;\">10</td><td style = \"text-align: left;\">Edible</td><td style = \"text-align: left;\">b</td><td style = \"text-align: left;\">s</td><td style = \"text-align: left;\">y</td><td style = \"text-align: left;\">t</td><td style = \"text-align: left;\">a</td><td style = \"text-align: left;\">f</td><td style = \"text-align: left;\">c</td><td style = \"text-align: left;\">b</td><td style = \"text-align: left;\">g</td><td style = \"text-align: left;\">e</td><td style = \"text-align: left;\">c</td><td style = \"text-align: left;\">s</td><td style = \"text-align: left;\">s</td><td style = \"text-align: left;\">w</td><td style = \"text-align: left;\">w</td><td style = \"text-align: left;\">p</td><td style = \"text-align: left;\">w</td><td style = \"text-align: left;\">o</td><td style = \"text-align: left;\">p</td><td style = \"text-align: left;\">k</td><td style = \"text-align: left;\">s</td><td style = \"text-align: left;\">m</td></tr><tr><td class = \"rowNumber\" style = \"font-weight: bold; text-align: right;\">11</td><td style = \"text-align: left;\">Edible</td><td style = \"text-align: left;\">x</td><td style = \"text-align: left;\">y</td><td style = \"text-align: left;\">y</td><td style = \"text-align: left;\">t</td><td style = \"text-align: left;\">l</td><td style = \"text-align: left;\">f</td><td style = \"text-align: left;\">c</td><td style = \"text-align: left;\">b</td><td style = \"text-align: left;\">g</td><td style = \"text-align: left;\">e</td><td style = \"text-align: left;\">c</td><td style = \"text-align: left;\">s</td><td style = \"text-align: left;\">s</td><td style = \"text-align: left;\">w</td><td style = \"text-align: left;\">w</td><td style = \"text-align: left;\">p</td><td style = \"text-align: left;\">w</td><td style = \"text-align: left;\">o</td><td style = \"text-align: left;\">p</td><td style = \"text-align: left;\">n</td><td style = \"text-align: left;\">n</td><td style = \"text-align: left;\">g</td></tr><tr><td class = \"rowNumber\" style = \"font-weight: bold; text-align: right;\">12</td><td style = \"text-align: left;\">Edible</td><td style = \"text-align: left;\">x</td><td style = \"text-align: left;\">y</td><td style = \"text-align: left;\">y</td><td style = \"text-align: left;\">t</td><td style = \"text-align: left;\">a</td><td style = \"text-align: left;\">f</td><td style = \"text-align: left;\">c</td><td style = \"text-align: left;\">b</td><td style = \"text-align: left;\">n</td><td style = \"text-align: left;\">e</td><td style = \"text-align: left;\">c</td><td style = \"text-align: left;\">s</td><td style = \"text-align: left;\">s</td><td style = \"text-align: left;\">w</td><td style = \"text-align: left;\">w</td><td style = \"text-align: left;\">p</td><td style = \"text-align: left;\">w</td><td style = \"text-align: left;\">o</td><td style = \"text-align: left;\">p</td><td style = \"text-align: left;\">k</td><td style = \"text-align: left;\">s</td><td style = \"text-align: left;\">m</td></tr><tr><td class = \"rowNumber\" style = \"font-weight: bold; text-align: right;\">13</td><td style = \"text-align: left;\">Edible</td><td style = \"text-align: left;\">b</td><td style = \"text-align: left;\">s</td><td style = \"text-align: left;\">y</td><td style = \"text-align: left;\">t</td><td style = \"text-align: left;\">a</td><td style = \"text-align: left;\">f</td><td style = \"text-align: left;\">c</td><td style = \"text-align: left;\">b</td><td style = \"text-align: left;\">w</td><td style = \"text-align: left;\">e</td><td style = \"text-align: left;\">c</td><td style = \"text-align: left;\">s</td><td style = \"text-align: left;\">s</td><td style = \"text-align: left;\">w</td><td style = \"text-align: left;\">w</td><td style = \"text-align: left;\">p</td><td style = \"text-align: left;\">w</td><td style = \"text-align: left;\">o</td><td style = \"text-align: left;\">p</td><td style = \"text-align: left;\">n</td><td style = \"text-align: left;\">s</td><td style = \"text-align: left;\">g</td></tr><tr><td style = \"text-align: right;\">&vellip;</td><td style = \"text-align: right;\">&vellip;</td><td style = \"text-align: right;\">&vellip;</td><td style = \"text-align: right;\">&vellip;</td><td style = \"text-align: right;\">&vellip;</td><td style = \"text-align: right;\">&vellip;</td><td style = \"text-align: right;\">&vellip;</td><td style = \"text-align: right;\">&vellip;</td><td style = \"text-align: right;\">&vellip;</td><td style = \"text-align: right;\">&vellip;</td><td style = \"text-align: right;\">&vellip;</td><td style = \"text-align: right;\">&vellip;</td><td style = \"text-align: right;\">&vellip;</td><td style = \"text-align: right;\">&vellip;</td><td style = \"text-align: right;\">&vellip;</td><td style = \"text-align: right;\">&vellip;</td><td style = \"text-align: right;\">&vellip;</td><td style = \"text-align: right;\">&vellip;</td><td style = \"text-align: right;\">&vellip;</td><td style = \"text-align: right;\">&vellip;</td><td style = \"text-align: right;\">&vellip;</td><td style = \"text-align: right;\">&vellip;</td><td style = \"text-align: right;\">&vellip;</td><td style = \"text-align: right;\">&vellip;</td></tr><tr><td class = \"rowNumber\" style = \"font-weight: bold; text-align: right;\">8113</td><td style = \"text-align: left;\">Edible</td><td style = \"text-align: left;\">k</td><td style = \"text-align: left;\">s</td><td style = \"text-align: left;\">n</td><td style = \"text-align: left;\">f</td><td style = \"text-align: left;\">n</td><td style = \"text-align: left;\">a</td><td style = \"text-align: left;\">c</td><td style = \"text-align: left;\">b</td><td style = \"text-align: left;\">o</td><td style = \"text-align: left;\">e</td><td style = \"text-align: left;\">?</td><td style = \"text-align: left;\">s</td><td style = \"text-align: left;\">s</td><td style = \"text-align: left;\">o</td><td style = \"text-align: left;\">o</td><td style = \"text-align: left;\">p</td><td style = \"text-align: left;\">n</td><td style = \"text-align: left;\">o</td><td style = \"text-align: left;\">p</td><td style = \"text-align: left;\">b</td><td style = \"text-align: left;\">v</td><td style = \"text-align: left;\">l</td></tr><tr><td class = \"rowNumber\" style = \"font-weight: bold; text-align: right;\">8114</td><td style = \"text-align: left;\">Poisonous</td><td style = \"text-align: left;\">k</td><td style = \"text-align: left;\">y</td><td style = \"text-align: left;\">e</td><td style = \"text-align: left;\">f</td><td style = \"text-align: left;\">y</td><td style = \"text-align: left;\">f</td><td style = \"text-align: left;\">c</td><td style = \"text-align: left;\">n</td><td style = \"text-align: left;\">b</td><td style = \"text-align: left;\">t</td><td style = \"text-align: left;\">?</td><td style = \"text-align: left;\">k</td><td style = \"text-align: left;\">k</td><td style = \"text-align: left;\">p</td><td style = \"text-align: left;\">p</td><td style = \"text-align: left;\">p</td><td style = \"text-align: left;\">w</td><td style = \"text-align: left;\">o</td><td style = \"text-align: left;\">e</td><td style = \"text-align: left;\">w</td><td style = \"text-align: left;\">v</td><td style = \"text-align: left;\">d</td></tr><tr><td class = \"rowNumber\" style = \"font-weight: bold; text-align: right;\">8115</td><td style = \"text-align: left;\">Poisonous</td><td style = \"text-align: left;\">f</td><td style = \"text-align: left;\">y</td><td style = \"text-align: left;\">c</td><td style = \"text-align: left;\">f</td><td style = \"text-align: left;\">m</td><td style = \"text-align: left;\">a</td><td style = \"text-align: left;\">c</td><td style = \"text-align: left;\">b</td><td style = \"text-align: left;\">y</td><td style = \"text-align: left;\">e</td><td style = \"text-align: left;\">c</td><td style = \"text-align: left;\">k</td><td style = \"text-align: left;\">y</td><td style = \"text-align: left;\">c</td><td style = \"text-align: left;\">c</td><td style = \"text-align: left;\">p</td><td style = \"text-align: left;\">w</td><td style = \"text-align: left;\">n</td><td style = \"text-align: left;\">n</td><td style = \"text-align: left;\">w</td><td style = \"text-align: left;\">c</td><td style = \"text-align: left;\">d</td></tr><tr><td class = \"rowNumber\" style = \"font-weight: bold; text-align: right;\">8116</td><td style = \"text-align: left;\">Edible</td><td style = \"text-align: left;\">x</td><td style = \"text-align: left;\">s</td><td style = \"text-align: left;\">n</td><td style = \"text-align: left;\">f</td><td style = \"text-align: left;\">n</td><td style = \"text-align: left;\">a</td><td style = \"text-align: left;\">c</td><td style = \"text-align: left;\">b</td><td style = \"text-align: left;\">y</td><td style = \"text-align: left;\">e</td><td style = \"text-align: left;\">?</td><td style = \"text-align: left;\">s</td><td style = \"text-align: left;\">s</td><td style = \"text-align: left;\">o</td><td style = \"text-align: left;\">o</td><td style = \"text-align: left;\">p</td><td style = \"text-align: left;\">o</td><td style = \"text-align: left;\">o</td><td style = \"text-align: left;\">p</td><td style = \"text-align: left;\">o</td><td style = \"text-align: left;\">v</td><td style = \"text-align: left;\">l</td></tr><tr><td class = \"rowNumber\" style = \"font-weight: bold; text-align: right;\">8117</td><td style = \"text-align: left;\">Poisonous</td><td style = \"text-align: left;\">k</td><td style = \"text-align: left;\">y</td><td style = \"text-align: left;\">n</td><td style = \"text-align: left;\">f</td><td style = \"text-align: left;\">s</td><td style = \"text-align: left;\">f</td><td style = \"text-align: left;\">c</td><td style = \"text-align: left;\">n</td><td style = \"text-align: left;\">b</td><td style = \"text-align: left;\">t</td><td style = \"text-align: left;\">?</td><td style = \"text-align: left;\">s</td><td style = \"text-align: left;\">k</td><td style = \"text-align: left;\">p</td><td style = \"text-align: left;\">w</td><td style = \"text-align: left;\">p</td><td style = \"text-align: left;\">w</td><td style = \"text-align: left;\">o</td><td style = \"text-align: left;\">e</td><td style = \"text-align: left;\">w</td><td style = \"text-align: left;\">v</td><td style = \"text-align: left;\">l</td></tr><tr><td class = \"rowNumber\" style = \"font-weight: bold; text-align: right;\">8118</td><td style = \"text-align: left;\">Poisonous</td><td style = \"text-align: left;\">k</td><td style = \"text-align: left;\">s</td><td style = \"text-align: left;\">e</td><td style = \"text-align: left;\">f</td><td style = \"text-align: left;\">y</td><td style = \"text-align: left;\">f</td><td style = \"text-align: left;\">c</td><td style = \"text-align: left;\">n</td><td style = \"text-align: left;\">b</td><td style = \"text-align: left;\">t</td><td style = \"text-align: left;\">?</td><td style = \"text-align: left;\">k</td><td style = \"text-align: left;\">s</td><td style = \"text-align: left;\">p</td><td style = \"text-align: left;\">w</td><td style = \"text-align: left;\">p</td><td style = \"text-align: left;\">w</td><td style = \"text-align: left;\">o</td><td style = \"text-align: left;\">e</td><td style = \"text-align: left;\">w</td><td style = \"text-align: left;\">v</td><td style = \"text-align: left;\">d</td></tr><tr><td class = \"rowNumber\" style = \"font-weight: bold; text-align: right;\">8119</td><td style = \"text-align: left;\">Poisonous</td><td style = \"text-align: left;\">k</td><td style = \"text-align: left;\">y</td><td style = \"text-align: left;\">n</td><td style = \"text-align: left;\">f</td><td style = \"text-align: left;\">f</td><td style = \"text-align: left;\">f</td><td style = \"text-align: left;\">c</td><td style = \"text-align: left;\">n</td><td style = \"text-align: left;\">b</td><td style = \"text-align: left;\">t</td><td style = \"text-align: left;\">?</td><td style = \"text-align: left;\">k</td><td style = \"text-align: left;\">s</td><td style = \"text-align: left;\">p</td><td style = \"text-align: left;\">w</td><td style = \"text-align: left;\">p</td><td style = \"text-align: left;\">w</td><td style = \"text-align: left;\">o</td><td style = \"text-align: left;\">e</td><td style = \"text-align: left;\">w</td><td style = \"text-align: left;\">v</td><td style = \"text-align: left;\">d</td></tr><tr><td class = \"rowNumber\" style = \"font-weight: bold; text-align: right;\">8120</td><td style = \"text-align: left;\">Edible</td><td style = \"text-align: left;\">k</td><td style = \"text-align: left;\">s</td><td style = \"text-align: left;\">n</td><td style = \"text-align: left;\">f</td><td style = \"text-align: left;\">n</td><td style = \"text-align: left;\">a</td><td style = \"text-align: left;\">c</td><td style = \"text-align: left;\">b</td><td style = \"text-align: left;\">y</td><td style = \"text-align: left;\">e</td><td style = \"text-align: left;\">?</td><td style = \"text-align: left;\">s</td><td style = \"text-align: left;\">s</td><td style = \"text-align: left;\">o</td><td style = \"text-align: left;\">o</td><td style = \"text-align: left;\">p</td><td style = \"text-align: left;\">o</td><td style = \"text-align: left;\">o</td><td style = \"text-align: left;\">p</td><td style = \"text-align: left;\">b</td><td style = \"text-align: left;\">c</td><td style = \"text-align: left;\">l</td></tr><tr><td class = \"rowNumber\" style = \"font-weight: bold; text-align: right;\">8121</td><td style = \"text-align: left;\">Edible</td><td style = \"text-align: left;\">x</td><td style = \"text-align: left;\">s</td><td style = \"text-align: left;\">n</td><td style = \"text-align: left;\">f</td><td style = \"text-align: left;\">n</td><td style = \"text-align: left;\">a</td><td style = \"text-align: left;\">c</td><td style = \"text-align: left;\">b</td><td style = \"text-align: left;\">y</td><td style = \"text-align: left;\">e</td><td style = \"text-align: left;\">?</td><td style = \"text-align: left;\">s</td><td style = \"text-align: left;\">s</td><td style = \"text-align: left;\">o</td><td style = \"text-align: left;\">o</td><td style = \"text-align: left;\">p</td><td style = \"text-align: left;\">n</td><td style = \"text-align: left;\">o</td><td style = \"text-align: left;\">p</td><td style = \"text-align: left;\">b</td><td style = \"text-align: left;\">v</td><td style = \"text-align: left;\">l</td></tr><tr><td class = \"rowNumber\" style = \"font-weight: bold; text-align: right;\">8122</td><td style = \"text-align: left;\">Edible</td><td style = \"text-align: left;\">f</td><td style = \"text-align: left;\">s</td><td style = \"text-align: left;\">n</td><td style = \"text-align: left;\">f</td><td style = \"text-align: left;\">n</td><td style = \"text-align: left;\">a</td><td style = \"text-align: left;\">c</td><td style = \"text-align: left;\">b</td><td style = \"text-align: left;\">n</td><td style = \"text-align: left;\">e</td><td style = \"text-align: left;\">?</td><td style = \"text-align: left;\">s</td><td style = \"text-align: left;\">s</td><td style = \"text-align: left;\">o</td><td style = \"text-align: left;\">o</td><td style = \"text-align: left;\">p</td><td style = \"text-align: left;\">o</td><td style = \"text-align: left;\">o</td><td style = \"text-align: left;\">p</td><td style = \"text-align: left;\">b</td><td style = \"text-align: left;\">c</td><td style = \"text-align: left;\">l</td></tr><tr><td class = \"rowNumber\" style = \"font-weight: bold; text-align: right;\">8123</td><td style = \"text-align: left;\">Poisonous</td><td style = \"text-align: left;\">k</td><td style = \"text-align: left;\">y</td><td style = \"text-align: left;\">n</td><td style = \"text-align: left;\">f</td><td style = \"text-align: left;\">y</td><td style = \"text-align: left;\">f</td><td style = \"text-align: left;\">c</td><td style = \"text-align: left;\">n</td><td style = \"text-align: left;\">b</td><td style = \"text-align: left;\">t</td><td style = \"text-align: left;\">?</td><td style = \"text-align: left;\">s</td><td style = \"text-align: left;\">k</td><td style = \"text-align: left;\">w</td><td style = \"text-align: left;\">w</td><td style = \"text-align: left;\">p</td><td style = \"text-align: left;\">w</td><td style = \"text-align: left;\">o</td><td style = \"text-align: left;\">e</td><td style = \"text-align: left;\">w</td><td style = \"text-align: left;\">v</td><td style = \"text-align: left;\">l</td></tr><tr><td class = \"rowNumber\" style = \"font-weight: bold; text-align: right;\">8124</td><td style = \"text-align: left;\">Edible</td><td style = \"text-align: left;\">x</td><td style = \"text-align: left;\">s</td><td style = \"text-align: left;\">n</td><td style = \"text-align: left;\">f</td><td style = \"text-align: left;\">n</td><td style = \"text-align: left;\">a</td><td style = \"text-align: left;\">c</td><td style = \"text-align: left;\">b</td><td style = \"text-align: left;\">y</td><td style = \"text-align: left;\">e</td><td style = \"text-align: left;\">?</td><td style = \"text-align: left;\">s</td><td style = \"text-align: left;\">s</td><td style = \"text-align: left;\">o</td><td style = \"text-align: left;\">o</td><td style = \"text-align: left;\">p</td><td style = \"text-align: left;\">o</td><td style = \"text-align: left;\">o</td><td style = \"text-align: left;\">p</td><td style = \"text-align: left;\">o</td><td style = \"text-align: left;\">c</td><td style = \"text-align: left;\">l</td></tr></tbody></table></div>"
      ],
      "text/latex": [
       "\\begin{tabular}{r|cccccccc}\n",
       "\t& class & cap-shape & cap-surface & cap-color & bruises & odor & gill-attachment & \\\\\n",
       "\t\\hline\n",
       "\t& PoisonCl… & String1 & String1 & String1 & String1 & String1 & String1 & \\\\\n",
       "\t\\hline\n",
       "\t1 & Poisonous & x & s & n & t & p & f & $\\dots$ \\\\\n",
       "\t2 & Edible & x & s & y & t & a & f & $\\dots$ \\\\\n",
       "\t3 & Edible & b & s & w & t & l & f & $\\dots$ \\\\\n",
       "\t4 & Poisonous & x & y & w & t & p & f & $\\dots$ \\\\\n",
       "\t5 & Edible & x & s & g & f & n & f & $\\dots$ \\\\\n",
       "\t6 & Edible & x & y & y & t & a & f & $\\dots$ \\\\\n",
       "\t7 & Edible & b & s & w & t & a & f & $\\dots$ \\\\\n",
       "\t8 & Edible & b & y & w & t & l & f & $\\dots$ \\\\\n",
       "\t9 & Poisonous & x & y & w & t & p & f & $\\dots$ \\\\\n",
       "\t10 & Edible & b & s & y & t & a & f & $\\dots$ \\\\\n",
       "\t11 & Edible & x & y & y & t & l & f & $\\dots$ \\\\\n",
       "\t12 & Edible & x & y & y & t & a & f & $\\dots$ \\\\\n",
       "\t13 & Edible & b & s & y & t & a & f & $\\dots$ \\\\\n",
       "\t14 & Poisonous & x & y & w & t & p & f & $\\dots$ \\\\\n",
       "\t15 & Edible & x & f & n & f & n & f & $\\dots$ \\\\\n",
       "\t16 & Edible & s & f & g & f & n & f & $\\dots$ \\\\\n",
       "\t17 & Edible & f & f & w & f & n & f & $\\dots$ \\\\\n",
       "\t18 & Poisonous & x & s & n & t & p & f & $\\dots$ \\\\\n",
       "\t19 & Poisonous & x & y & w & t & p & f & $\\dots$ \\\\\n",
       "\t20 & Poisonous & x & s & n & t & p & f & $\\dots$ \\\\\n",
       "\t21 & Edible & b & s & y & t & a & f & $\\dots$ \\\\\n",
       "\t22 & Poisonous & x & y & n & t & p & f & $\\dots$ \\\\\n",
       "\t23 & Edible & b & y & y & t & l & f & $\\dots$ \\\\\n",
       "\t24 & Edible & b & y & w & t & a & f & $\\dots$ \\\\\n",
       "\t$\\dots$ & $\\dots$ & $\\dots$ & $\\dots$ & $\\dots$ & $\\dots$ & $\\dots$ & $\\dots$ &  \\\\\n",
       "\\end{tabular}\n"
      ],
      "text/plain": [
       "\u001b[1m8124×23 DataFrame\u001b[0m\n",
       "\u001b[1m  Row \u001b[0m│\u001b[1m class     \u001b[0m\u001b[1m cap-shape \u001b[0m\u001b[1m cap-surface \u001b[0m\u001b[1m cap-color \u001b[0m\u001b[1m bruises \u001b[0m\u001b[1m odor    \u001b[0m\u001b[1m gill-a\u001b[0m ⋯\n",
       "      │\u001b[90m PoisonCl… \u001b[0m\u001b[90m String1   \u001b[0m\u001b[90m String1     \u001b[0m\u001b[90m String1   \u001b[0m\u001b[90m String1 \u001b[0m\u001b[90m String1 \u001b[0m\u001b[90m String\u001b[0m ⋯\n",
       "──────┼─────────────────────────────────────────────────────────────────────────\n",
       "    1 │ Poisonous  x          s            n          t        p        f      ⋯\n",
       "    2 │ Edible     x          s            y          t        a        f\n",
       "    3 │ Edible     b          s            w          t        l        f\n",
       "    4 │ Poisonous  x          y            w          t        p        f\n",
       "    5 │ Edible     x          s            g          f        n        f      ⋯\n",
       "    6 │ Edible     x          y            y          t        a        f\n",
       "    7 │ Edible     b          s            w          t        a        f\n",
       "    8 │ Edible     b          y            w          t        l        f\n",
       "  ⋮   │     ⋮          ⋮           ⋮           ⋮         ⋮        ⋮            ⋱\n",
       " 8118 │ Poisonous  k          s            e          f        y        f      ⋯\n",
       " 8119 │ Poisonous  k          y            n          f        f        f\n",
       " 8120 │ Edible     k          s            n          f        n        a\n",
       " 8121 │ Edible     x          s            n          f        n        a\n",
       " 8122 │ Edible     f          s            n          f        n        a      ⋯\n",
       " 8123 │ Poisonous  k          y            n          f        y        f\n",
       " 8124 │ Edible     x          s            n          f        n        a\n",
       "\u001b[36m                                                17 columns and 8109 rows omitted\u001b[0m"
      ]
     },
     "metadata": {},
     "output_type": "display_data"
    }
   ],
   "source": [
    "# Define data\n",
    "data = DataFrame(CSV.File(\"mushrooms.csv\"))\n",
    "\n",
    "# data[!, :class] = map(x -> if x == \"e\" Edible else Poisonous end, data[!, :class])\n",
    "# data[!, :cap_shape] = map(x -> if x == \"b\" Bell elseif x == \"c\" Conical elseif x == \"x\" Convex elseif x == \"f\" Flat elseif x == \"k\" Knobbed elseif x == \"s\" Sunken end, data[!, :cap_shape])\n",
    "\n",
    "macro Enumify(data, column, args...)\n",
    "    # Generate a list of `if` and `elseif` expressions\n",
    "    expr = :x\n",
    "    for i in 1:2:length(args)\n",
    "        symbol = args[i]\n",
    "        value = args[i+1]\n",
    "        expr = Expr(:if, :x == value, symbol, expr)\n",
    "    end\n",
    "\n",
    "    quote\n",
    "        $(esc(data))[:!, $(esc(column))] = map(x -> $expr, $(esc(data))[!, $(esc(column))])\n",
    "    end\n",
    "end\n",
    "\n",
    "\n",
    "data = @Enumify data :class Poisonous \"p\" Edible \"e\"\n",
    "data = @Enumify data :cap_shape Bell \"b\" Conical \"c\" Convex \"x\" Flat \"f\" Knobbed \"k\" Sunken \"s\"\n",
    "\n",
    "data\n"
   ]
  }
 ],
 "metadata": {
  "kernelspec": {
   "display_name": "Julia 1.10.4",
   "language": "julia",
   "name": "julia-1.10"
  },
  "language_info": {
   "file_extension": ".jl",
   "mimetype": "application/julia",
   "name": "julia",
   "version": "1.10.4"
  }
 },
 "nbformat": 4,
 "nbformat_minor": 2
}
